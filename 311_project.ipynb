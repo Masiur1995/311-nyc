{
 "cells": [
  {
   "cell_type": "code",
   "execution_count": 116,
   "metadata": {},
   "outputs": [],
   "source": [
    "import pandas as pd"
   ]
  },
  {
   "cell_type": "code",
   "execution_count": 243,
   "metadata": {},
   "outputs": [],
   "source": [
    "#!pip install sodapy"
   ]
  },
  {
   "cell_type": "code",
   "execution_count": 118,
   "metadata": {},
   "outputs": [],
   "source": [
    "from sodapy import Socrata"
   ]
  },
  {
   "cell_type": "code",
   "execution_count": 119,
   "metadata": {},
   "outputs": [],
   "source": [
    "# Code was taken from the website\n",
    "client = Socrata(\"data.cityofnewyork.us\", 'o7rJkdZZ7zAnJWOTmjaaLU64f')"
   ]
  },
  {
   "cell_type": "code",
   "execution_count": 120,
   "metadata": {},
   "outputs": [],
   "source": [
    "results = client.get(\"fhrw-4uyv\", limit=500000)\n",
    "# this was as big as i could pull without freezing my comp for ~ 20 minutes"
   ]
  },
  {
   "cell_type": "code",
   "execution_count": 121,
   "metadata": {},
   "outputs": [],
   "source": [
    "df = pd.DataFrame.from_records(results)"
   ]
  },
  {
   "cell_type": "code",
   "execution_count": 122,
   "metadata": {},
   "outputs": [
    {
     "data": {
      "text/html": [
       "<div>\n",
       "<style scoped>\n",
       "    .dataframe tbody tr th:only-of-type {\n",
       "        vertical-align: middle;\n",
       "    }\n",
       "\n",
       "    .dataframe tbody tr th {\n",
       "        vertical-align: top;\n",
       "    }\n",
       "\n",
       "    .dataframe thead th {\n",
       "        text-align: right;\n",
       "    }\n",
       "</style>\n",
       "<table border=\"1\" class=\"dataframe\">\n",
       "  <thead>\n",
       "    <tr style=\"text-align: right;\">\n",
       "      <th></th>\n",
       "      <th>:@computed_region_92fq_4b7q</th>\n",
       "      <th>:@computed_region_efsh_h5xi</th>\n",
       "      <th>:@computed_region_f5dn_yrer</th>\n",
       "      <th>:@computed_region_sbqj_enih</th>\n",
       "      <th>:@computed_region_yeji_bk3q</th>\n",
       "      <th>address_type</th>\n",
       "      <th>agency</th>\n",
       "      <th>agency_name</th>\n",
       "      <th>bbl</th>\n",
       "      <th>borough</th>\n",
       "      <th>...</th>\n",
       "      <th>resolution_description</th>\n",
       "      <th>road_ramp</th>\n",
       "      <th>status</th>\n",
       "      <th>street_name</th>\n",
       "      <th>taxi_company_borough</th>\n",
       "      <th>taxi_pick_up_location</th>\n",
       "      <th>unique_key</th>\n",
       "      <th>vehicle_type</th>\n",
       "      <th>x_coordinate_state_plane</th>\n",
       "      <th>y_coordinate_state_plane</th>\n",
       "    </tr>\n",
       "  </thead>\n",
       "  <tbody>\n",
       "    <tr>\n",
       "      <th>0</th>\n",
       "      <td>27</td>\n",
       "      <td>13514</td>\n",
       "      <td>14</td>\n",
       "      <td>48</td>\n",
       "      <td>2</td>\n",
       "      <td>ADDRESS</td>\n",
       "      <td>NYPD</td>\n",
       "      <td>New York City Police Department</td>\n",
       "      <td>3004670021</td>\n",
       "      <td>BROOKLYN</td>\n",
       "      <td>...</td>\n",
       "      <td>The Police Department responded to the complai...</td>\n",
       "      <td>NaN</td>\n",
       "      <td>Closed</td>\n",
       "      <td>3 PLACE</td>\n",
       "      <td>NaN</td>\n",
       "      <td>NaN</td>\n",
       "      <td>20403865</td>\n",
       "      <td>NaN</td>\n",
       "      <td>985116</td>\n",
       "      <td>186455</td>\n",
       "    </tr>\n",
       "    <tr>\n",
       "      <th>1</th>\n",
       "      <td>32</td>\n",
       "      <td>13096</td>\n",
       "      <td>56</td>\n",
       "      <td>2</td>\n",
       "      <td>4</td>\n",
       "      <td>NaN</td>\n",
       "      <td>DOT</td>\n",
       "      <td>Department of Transportation</td>\n",
       "      <td>NaN</td>\n",
       "      <td>MANHATTAN</td>\n",
       "      <td>...</td>\n",
       "      <td>The condition has been inspected/investigated,...</td>\n",
       "      <td>Ramp</td>\n",
       "      <td>Closed</td>\n",
       "      <td>NaN</td>\n",
       "      <td>NaN</td>\n",
       "      <td>NaN</td>\n",
       "      <td>20403866</td>\n",
       "      <td>NaN</td>\n",
       "      <td>984436</td>\n",
       "      <td>197228</td>\n",
       "    </tr>\n",
       "    <tr>\n",
       "      <th>2</th>\n",
       "      <td>32</td>\n",
       "      <td>13096</td>\n",
       "      <td>56</td>\n",
       "      <td>2</td>\n",
       "      <td>4</td>\n",
       "      <td>NaN</td>\n",
       "      <td>DOT</td>\n",
       "      <td>Department of Transportation</td>\n",
       "      <td>NaN</td>\n",
       "      <td>MANHATTAN</td>\n",
       "      <td>...</td>\n",
       "      <td>The condition has been inspected/investigated,...</td>\n",
       "      <td>Ramp</td>\n",
       "      <td>Closed</td>\n",
       "      <td>NaN</td>\n",
       "      <td>NaN</td>\n",
       "      <td>NaN</td>\n",
       "      <td>20403867</td>\n",
       "      <td>NaN</td>\n",
       "      <td>984436</td>\n",
       "      <td>197228</td>\n",
       "    </tr>\n",
       "    <tr>\n",
       "      <th>3</th>\n",
       "      <td>33</td>\n",
       "      <td>14787</td>\n",
       "      <td>53</td>\n",
       "      <td>66</td>\n",
       "      <td>3</td>\n",
       "      <td>ADDRESS</td>\n",
       "      <td>DPR</td>\n",
       "      <td>Department of Parks and Recreation</td>\n",
       "      <td>4013250054</td>\n",
       "      <td>QUEENS</td>\n",
       "      <td>...</td>\n",
       "      <td>The condition was inspected and it was determi...</td>\n",
       "      <td>NaN</td>\n",
       "      <td>Closed</td>\n",
       "      <td>56 STREET</td>\n",
       "      <td>NaN</td>\n",
       "      <td>NaN</td>\n",
       "      <td>20403868</td>\n",
       "      <td>NaN</td>\n",
       "      <td>1009551</td>\n",
       "      <td>210660</td>\n",
       "    </tr>\n",
       "    <tr>\n",
       "      <th>4</th>\n",
       "      <td>4</td>\n",
       "      <td>16859</td>\n",
       "      <td>39</td>\n",
       "      <td>72</td>\n",
       "      <td>3</td>\n",
       "      <td>ADDRESS</td>\n",
       "      <td>DOT</td>\n",
       "      <td>Department of Transportation</td>\n",
       "      <td>4008870018</td>\n",
       "      <td>QUEENS</td>\n",
       "      <td>...</td>\n",
       "      <td>The Department of Transportation inspected the...</td>\n",
       "      <td>NaN</td>\n",
       "      <td>Closed</td>\n",
       "      <td>26 AVENUE</td>\n",
       "      <td>NaN</td>\n",
       "      <td>NaN</td>\n",
       "      <td>20403871</td>\n",
       "      <td>NaN</td>\n",
       "      <td>1004617</td>\n",
       "      <td>221261</td>\n",
       "    </tr>\n",
       "  </tbody>\n",
       "</table>\n",
       "<p>5 rows × 46 columns</p>\n",
       "</div>"
      ],
      "text/plain": [
       "  :@computed_region_92fq_4b7q :@computed_region_efsh_h5xi  \\\n",
       "0                          27                       13514   \n",
       "1                          32                       13096   \n",
       "2                          32                       13096   \n",
       "3                          33                       14787   \n",
       "4                           4                       16859   \n",
       "\n",
       "  :@computed_region_f5dn_yrer :@computed_region_sbqj_enih  \\\n",
       "0                          14                          48   \n",
       "1                          56                           2   \n",
       "2                          56                           2   \n",
       "3                          53                          66   \n",
       "4                          39                          72   \n",
       "\n",
       "  :@computed_region_yeji_bk3q address_type agency  \\\n",
       "0                           2      ADDRESS   NYPD   \n",
       "1                           4          NaN    DOT   \n",
       "2                           4          NaN    DOT   \n",
       "3                           3      ADDRESS    DPR   \n",
       "4                           3      ADDRESS    DOT   \n",
       "\n",
       "                          agency_name         bbl    borough  ...  \\\n",
       "0     New York City Police Department  3004670021   BROOKLYN  ...   \n",
       "1        Department of Transportation         NaN  MANHATTAN  ...   \n",
       "2        Department of Transportation         NaN  MANHATTAN  ...   \n",
       "3  Department of Parks and Recreation  4013250054     QUEENS  ...   \n",
       "4        Department of Transportation  4008870018     QUEENS  ...   \n",
       "\n",
       "                              resolution_description road_ramp  status  \\\n",
       "0  The Police Department responded to the complai...       NaN  Closed   \n",
       "1  The condition has been inspected/investigated,...      Ramp  Closed   \n",
       "2  The condition has been inspected/investigated,...      Ramp  Closed   \n",
       "3  The condition was inspected and it was determi...       NaN  Closed   \n",
       "4  The Department of Transportation inspected the...       NaN  Closed   \n",
       "\n",
       "  street_name taxi_company_borough taxi_pick_up_location unique_key  \\\n",
       "0     3 PLACE                  NaN                   NaN   20403865   \n",
       "1         NaN                  NaN                   NaN   20403866   \n",
       "2         NaN                  NaN                   NaN   20403867   \n",
       "3   56 STREET                  NaN                   NaN   20403868   \n",
       "4   26 AVENUE                  NaN                   NaN   20403871   \n",
       "\n",
       "  vehicle_type x_coordinate_state_plane y_coordinate_state_plane  \n",
       "0          NaN                   985116                   186455  \n",
       "1          NaN                   984436                   197228  \n",
       "2          NaN                   984436                   197228  \n",
       "3          NaN                  1009551                   210660  \n",
       "4          NaN                  1004617                   221261  \n",
       "\n",
       "[5 rows x 46 columns]"
      ]
     },
     "execution_count": 122,
     "metadata": {},
     "output_type": "execute_result"
    }
   ],
   "source": [
    "df.head()"
   ]
  },
  {
   "cell_type": "code",
   "execution_count": 123,
   "metadata": {},
   "outputs": [
    {
     "data": {
      "text/plain": [
       "(500000, 46)"
      ]
     },
     "execution_count": 123,
     "metadata": {},
     "output_type": "execute_result"
    }
   ],
   "source": [
    "df.shape"
   ]
  },
  {
   "cell_type": "code",
   "execution_count": 124,
   "metadata": {},
   "outputs": [
    {
     "data": {
      "text/plain": [
       "Index([':@computed_region_92fq_4b7q', ':@computed_region_efsh_h5xi',\n",
       "       ':@computed_region_f5dn_yrer', ':@computed_region_sbqj_enih',\n",
       "       ':@computed_region_yeji_bk3q', 'address_type', 'agency', 'agency_name',\n",
       "       'bbl', 'borough', 'bridge_highway_direction', 'bridge_highway_name',\n",
       "       'bridge_highway_segment', 'city', 'closed_date', 'community_board',\n",
       "       'complaint_type', 'created_date', 'cross_street_1', 'cross_street_2',\n",
       "       'descriptor', 'due_date', 'facility_type', 'incident_address',\n",
       "       'incident_zip', 'intersection_street_1', 'intersection_street_2',\n",
       "       'landmark', 'latitude', 'location', 'location_type', 'longitude',\n",
       "       'open_data_channel_type', 'park_borough', 'park_facility_name',\n",
       "       'resolution_action_updated_date', 'resolution_description', 'road_ramp',\n",
       "       'status', 'street_name', 'taxi_company_borough',\n",
       "       'taxi_pick_up_location', 'unique_key', 'vehicle_type',\n",
       "       'x_coordinate_state_plane', 'y_coordinate_state_plane'],\n",
       "      dtype='object')"
      ]
     },
     "execution_count": 124,
     "metadata": {},
     "output_type": "execute_result"
    }
   ],
   "source": [
    "df.columns"
   ]
  },
  {
   "cell_type": "code",
   "execution_count": 125,
   "metadata": {},
   "outputs": [
    {
     "data": {
      "text/plain": [
       ":@computed_region_92fq_4b7q          200\n",
       ":@computed_region_efsh_h5xi         1033\n",
       ":@computed_region_f5dn_yrer          196\n",
       ":@computed_region_sbqj_enih          196\n",
       ":@computed_region_yeji_bk3q          195\n",
       "address_type                        2220\n",
       "agency                                 0\n",
       "agency_name                            0\n",
       "bbl                               117379\n",
       "borough                                0\n",
       "bridge_highway_direction          498955\n",
       "bridge_highway_name               498955\n",
       "bridge_highway_segment            498955\n",
       "city                                  27\n",
       "closed_date                        38379\n",
       "community_board                        0\n",
       "complaint_type                         0\n",
       "created_date                           0\n",
       "cross_street_1                     74175\n",
       "cross_street_2                     74248\n",
       "descriptor                             3\n",
       "due_date                          314052\n",
       "facility_type                          7\n",
       "incident_address                   94533\n",
       "incident_zip                         276\n",
       "intersection_street_1             407169\n",
       "intersection_street_2             407163\n",
       "landmark                          499561\n",
       "latitude                               0\n",
       "location                               0\n",
       "location_type                     137659\n",
       "longitude                              0\n",
       "open_data_channel_type                 0\n",
       "park_borough                           0\n",
       "park_facility_name                     0\n",
       "resolution_action_updated_date     10215\n",
       "resolution_description             23181\n",
       "road_ramp                         498955\n",
       "status                                 0\n",
       "street_name                        94534\n",
       "taxi_company_borough              499469\n",
       "taxi_pick_up_location             495008\n",
       "unique_key                             0\n",
       "vehicle_type                      499458\n",
       "x_coordinate_state_plane               0\n",
       "y_coordinate_state_plane               0\n",
       "dtype: int64"
      ]
     },
     "execution_count": 125,
     "metadata": {},
     "output_type": "execute_result"
    }
   ],
   "source": [
    "df.isnull().sum()"
   ]
  },
  {
   "cell_type": "code",
   "execution_count": 126,
   "metadata": {},
   "outputs": [],
   "source": [
    "# dropping columns with too many nulls\n",
    "drop_cols = [col for col in df.columns if df[col].isnull().sum() > 2_000]"
   ]
  },
  {
   "cell_type": "code",
   "execution_count": 127,
   "metadata": {},
   "outputs": [
    {
     "data": {
      "text/plain": [
       "['address_type',\n",
       " 'bbl',\n",
       " 'bridge_highway_direction',\n",
       " 'bridge_highway_name',\n",
       " 'bridge_highway_segment',\n",
       " 'closed_date',\n",
       " 'cross_street_1',\n",
       " 'cross_street_2',\n",
       " 'due_date',\n",
       " 'incident_address',\n",
       " 'intersection_street_1',\n",
       " 'intersection_street_2',\n",
       " 'landmark',\n",
       " 'location_type',\n",
       " 'resolution_action_updated_date',\n",
       " 'resolution_description',\n",
       " 'road_ramp',\n",
       " 'street_name',\n",
       " 'taxi_company_borough',\n",
       " 'taxi_pick_up_location',\n",
       " 'vehicle_type']"
      ]
     },
     "execution_count": 127,
     "metadata": {},
     "output_type": "execute_result"
    }
   ],
   "source": [
    "drop_cols"
   ]
  },
  {
   "cell_type": "code",
   "execution_count": 128,
   "metadata": {},
   "outputs": [],
   "source": [
    "df.drop(columns= drop_cols, inplace=True)"
   ]
  },
  {
   "cell_type": "code",
   "execution_count": 129,
   "metadata": {},
   "outputs": [
    {
     "data": {
      "text/plain": [
       "GENERAL CONSTRUCTION                 36816\n",
       "Noise - Residential                  32751\n",
       "PLUMBING                             30387\n",
       "Water System                         28961\n",
       "PAINT - PLASTER                      27114\n",
       "Street Condition                     26385\n",
       "NONCONST                             22261\n",
       "Street Light Condition               16308\n",
       "Sewer                                16295\n",
       "Damaged Tree                         15576\n",
       "Blocked Driveway                     13517\n",
       "Building/Use                         13083\n",
       "Dirty Conditions                     12085\n",
       "ELECTRIC                             11640\n",
       "Illegal Parking                      10417\n",
       "General Construction/Plumbing         9822\n",
       "Noise                                 9516\n",
       "Sanitation Condition                  8905\n",
       "Noise - Street/Sidewalk               8590\n",
       "Rodent                                8333\n",
       "HEATING                               7881\n",
       "Overgrown Tree/Branches               7222\n",
       "Traffic Signal Condition              6775\n",
       "Missed Collection (All Materials)     5879\n",
       "Sidewalk Condition                    5594\n",
       "Taxi Complaint                        5549\n",
       "Noise - Vehicle                       5469\n",
       "Consumer Complaint                    5272\n",
       "Graffiti                              4971\n",
       "Noise - Commercial                    4886\n",
       "                                     ...  \n",
       "Collection Truck Noise                  19\n",
       "Municipal Parking Facility              17\n",
       "Registration and Transfers              16\n",
       "Health                                  16\n",
       "Highway Sign - Damaged                  15\n",
       "Drinking Water                          14\n",
       "Legal Services Provider Complaint       11\n",
       "Non-Residential Heat                    11\n",
       "Highway Sign - Missing                  11\n",
       "Parent Leadership                       11\n",
       "Radioactive Material                    10\n",
       "Stalled Sites                           10\n",
       "Public Toilet                           10\n",
       "Illegal Animal Sold                      9\n",
       "Lifeguard                                9\n",
       "Bottled Water                            7\n",
       "X-Ray Machine/Equipment                  6\n",
       "Calorie Labeling                         5\n",
       "Adopt-A-Basket                           3\n",
       "Highway Sign - Dangling                  3\n",
       "Squeegee                                 3\n",
       "No Child Left Behind                     2\n",
       "Lost Property                            2\n",
       "Taxi Compliment                          2\n",
       "Snow                                     2\n",
       "Portable Toilet                          2\n",
       "Building Condition                       1\n",
       "Forensic Engineering                     1\n",
       "Trans Fat                                1\n",
       "Transportation Provider Complaint        1\n",
       "Name: complaint_type, Length: 152, dtype: int64"
      ]
     },
     "execution_count": 129,
     "metadata": {},
     "output_type": "execute_result"
    }
   ],
   "source": [
    "df['complaint_type'].value_counts()"
   ]
  },
  {
   "cell_type": "code",
   "execution_count": 130,
   "metadata": {},
   "outputs": [
    {
     "data": {
      "text/plain": [
       "0           Blocked Driveway\n",
       "1           Bridge Condition\n",
       "2           Bridge Condition\n",
       "3    Overgrown Tree/Branches\n",
       "4           Street Condition\n",
       "Name: complaint_type, dtype: object"
      ]
     },
     "execution_count": 130,
     "metadata": {},
     "output_type": "execute_result"
    }
   ],
   "source": [
    "df.complaint_type.head()"
   ]
  },
  {
   "cell_type": "code",
   "execution_count": 131,
   "metadata": {},
   "outputs": [],
   "source": [
    "col_dr = [col for col in df.columns if col.startswith(':') == True]\n",
    "df.drop(columns= col_dr, inplace = True)"
   ]
  },
  {
   "cell_type": "code",
   "execution_count": 132,
   "metadata": {},
   "outputs": [
    {
     "data": {
      "text/plain": [
       "agency                        0\n",
       "agency_name                   0\n",
       "borough                       0\n",
       "city                         27\n",
       "community_board               0\n",
       "complaint_type                0\n",
       "created_date                  0\n",
       "descriptor                    3\n",
       "facility_type                 7\n",
       "incident_zip                276\n",
       "latitude                      0\n",
       "location                      0\n",
       "longitude                     0\n",
       "open_data_channel_type        0\n",
       "park_borough                  0\n",
       "park_facility_name            0\n",
       "status                        0\n",
       "unique_key                    0\n",
       "x_coordinate_state_plane      0\n",
       "y_coordinate_state_plane      0\n",
       "dtype: int64"
      ]
     },
     "execution_count": 132,
     "metadata": {},
     "output_type": "execute_result"
    }
   ],
   "source": [
    "#dropping remaining null values\n",
    "df.isnull().sum()"
   ]
  },
  {
   "cell_type": "code",
   "execution_count": 133,
   "metadata": {},
   "outputs": [],
   "source": [
    "df.dropna(inplace=True)"
   ]
  },
  {
   "cell_type": "code",
   "execution_count": 134,
   "metadata": {},
   "outputs": [
    {
     "data": {
      "text/plain": [
       "20"
      ]
     },
     "execution_count": 134,
     "metadata": {},
     "output_type": "execute_result"
    }
   ],
   "source": [
    "len(df.columns)"
   ]
  },
  {
   "cell_type": "code",
   "execution_count": 135,
   "metadata": {},
   "outputs": [
    {
     "data": {
      "text/plain": [
       "agency                      0\n",
       "agency_name                 0\n",
       "borough                     0\n",
       "city                        0\n",
       "community_board             0\n",
       "complaint_type              0\n",
       "created_date                0\n",
       "descriptor                  0\n",
       "facility_type               0\n",
       "incident_zip                0\n",
       "latitude                    0\n",
       "location                    0\n",
       "longitude                   0\n",
       "open_data_channel_type      0\n",
       "park_borough                0\n",
       "park_facility_name          0\n",
       "status                      0\n",
       "unique_key                  0\n",
       "x_coordinate_state_plane    0\n",
       "y_coordinate_state_plane    0\n",
       "dtype: int64"
      ]
     },
     "execution_count": 135,
     "metadata": {},
     "output_type": "execute_result"
    }
   ],
   "source": [
    "df.isnull().sum()"
   ]
  },
  {
   "cell_type": "code",
   "execution_count": 136,
   "metadata": {},
   "outputs": [
    {
     "data": {
      "text/plain": [
       "(499701, 20)"
      ]
     },
     "execution_count": 136,
     "metadata": {},
     "output_type": "execute_result"
    }
   ],
   "source": [
    "df.shape"
   ]
  },
  {
   "cell_type": "code",
   "execution_count": 145,
   "metadata": {},
   "outputs": [],
   "source": [
    "df['city'] = df['city'].str.lower()\n",
    "    "
   ]
  },
  {
   "cell_type": "code",
   "execution_count": 86,
   "metadata": {},
   "outputs": [
    {
     "data": {
      "text/plain": [
       "brooklyn               0.322537\n",
       "bronx                  0.185626\n",
       "new york               0.184324\n",
       "staten island          0.057357\n",
       "jamaica                0.029556\n",
       "flushing               0.019761\n",
       "astoria                0.015387\n",
       "ridgewood              0.011431\n",
       "corona                 0.009403\n",
       "ozone park             0.008052\n",
       "woodside               0.008014\n",
       "far rockaway           0.007974\n",
       "queens village         0.007838\n",
       "east elmhurst          0.007032\n",
       "south richmond hill    0.006934\n",
       "elmhurst               0.006922\n",
       "south ozone park       0.006842\n",
       "forest hills           0.006294\n",
       "jackson heights        0.005690\n",
       "fresh meadows          0.005654\n",
       "richmond hill          0.005616\n",
       "woodhaven              0.005436\n",
       "long island city       0.005392\n",
       "springfield gardens    0.005286\n",
       "saint albans           0.005102\n",
       "maspeth                0.004958\n",
       "bayside                0.004832\n",
       "whitestone             0.004722\n",
       "middle village         0.004384\n",
       "hollis                 0.004374\n",
       "rosedale               0.003690\n",
       "rego park              0.003678\n",
       "college point          0.003334\n",
       "little neck            0.003234\n",
       "howard beach           0.003202\n",
       "oakland gardens        0.003186\n",
       "sunnyside              0.002698\n",
       "cambria heights        0.002624\n",
       "bellerose              0.002456\n",
       "kew gardens            0.002336\n",
       "rockaway park          0.002252\n",
       "arverne                0.001852\n",
       "glen oaks              0.001484\n",
       "new hyde park          0.000460\n",
       "floral park            0.000438\n",
       "queens                 0.000256\n",
       "breezy point           0.000068\n",
       "madison                0.000002\n",
       "cambria heighs         0.000002\n",
       "na                     0.000002\n",
       "n/a                    0.000002\n",
       "wilmington             0.000002\n",
       "wllington              0.000002\n",
       "hoboken                0.000002\n",
       "Name: city, dtype: float64"
      ]
     },
     "execution_count": 86,
     "metadata": {},
     "output_type": "execute_result"
    }
   ],
   "source": [
    "df.city.value_counts(normalize = True)"
   ]
  },
  {
   "cell_type": "code",
   "execution_count": 69,
   "metadata": {},
   "outputs": [
    {
     "data": {
      "text/plain": [
       "BROOKLYN         63201\n",
       "QUEENS           44922\n",
       "BRONX            42500\n",
       "MANHATTAN        39163\n",
       "STATEN ISLAND     9892\n",
       "Unspecified        322\n",
       "Name: borough, dtype: int64"
      ]
     },
     "execution_count": 69,
     "metadata": {},
     "output_type": "execute_result"
    }
   ],
   "source": [
    "df.borough.value_counts()"
   ]
  },
  {
   "cell_type": "code",
   "execution_count": 90,
   "metadata": {},
   "outputs": [
    {
     "data": {
      "text/plain": [
       "16617               bronx\n",
       "16661              queens\n",
       "30936            brooklyn\n",
       "36519       staten island\n",
       "55289              queens\n",
       "57564       staten island\n",
       "62244            new york\n",
       "67365              queens\n",
       "67514              queens\n",
       "80829              queens\n",
       "105509           brooklyn\n",
       "111344                 na\n",
       "114128           new york\n",
       "114258          wllington\n",
       "115950              bronx\n",
       "126293      staten island\n",
       "137087      staten island\n",
       "137088      staten island\n",
       "144473             queens\n",
       "144791             queens\n",
       "147586             queens\n",
       "151272              bronx\n",
       "157457      staten island\n",
       "163226            jamaica\n",
       "164273            hoboken\n",
       "167192           new york\n",
       "167193           new york\n",
       "167194           new york\n",
       "175571           brooklyn\n",
       "182998           brooklyn\n",
       "188085           brooklyn\n",
       "201138              bronx\n",
       "208747    cambria heights\n",
       "244351              bronx\n",
       "248394             queens\n",
       "276205             queens\n",
       "285824              bronx\n",
       "287190         wilmington\n",
       "291283           brooklyn\n",
       "312619           new york\n",
       "319386            madison\n",
       "336765             queens\n",
       "341808           brooklyn\n",
       "381865           brooklyn\n",
       "381899             queens\n",
       "386817              bronx\n",
       "401812             queens\n",
       "415455              bronx\n",
       "429312           brooklyn\n",
       "429313           brooklyn\n",
       "439427              bronx\n",
       "454235             queens\n",
       "456819           brooklyn\n",
       "471328           brooklyn\n",
       "471933           new york\n",
       "472046             queens\n",
       "477129             queens\n",
       "Name: city, dtype: object"
      ]
     },
     "execution_count": 90,
     "metadata": {},
     "output_type": "execute_result"
    }
   ],
   "source": [
    "df[df['borough'] == 'Unspecified']['city']"
   ]
  },
  {
   "cell_type": "code",
   "execution_count": 93,
   "metadata": {},
   "outputs": [],
   "source": [
    "df.dropna(inplace=True)"
   ]
  },
  {
   "cell_type": "code",
   "execution_count": 95,
   "metadata": {},
   "outputs": [
    {
     "data": {
      "text/plain": [
       ":@computed_region_92fq_4b7q    0\n",
       ":@computed_region_efsh_h5xi    0\n",
       ":@computed_region_f5dn_yrer    0\n",
       ":@computed_region_sbqj_enih    0\n",
       ":@computed_region_yeji_bk3q    0\n",
       "agency                         0\n",
       "agency_name                    0\n",
       "borough                        0\n",
       "city                           0\n",
       "community_board                0\n",
       "complaint_type                 0\n",
       "created_date                   0\n",
       "descriptor                     0\n",
       "facility_type                  0\n",
       "incident_zip                   0\n",
       "latitude                       0\n",
       "location                       0\n",
       "longitude                      0\n",
       "open_data_channel_type         0\n",
       "park_borough                   0\n",
       "park_facility_name             0\n",
       "status                         0\n",
       "unique_key                     0\n",
       "x_coordinate_state_plane       0\n",
       "y_coordinate_state_plane       0\n",
       "dtype: int64"
      ]
     },
     "execution_count": 95,
     "metadata": {},
     "output_type": "execute_result"
    }
   ],
   "source": [
    "df.isnull().sum()"
   ]
  },
  {
   "cell_type": "code",
   "execution_count": 189,
   "metadata": {},
   "outputs": [
    {
     "data": {
      "text/plain": [
       "(499701, 20)"
      ]
     },
     "execution_count": 189,
     "metadata": {},
     "output_type": "execute_result"
    }
   ],
   "source": [
    "df.shape"
   ]
  },
  {
   "cell_type": "code",
   "execution_count": 97,
   "metadata": {},
   "outputs": [
    {
     "data": {
      "text/plain": [
       "25"
      ]
     },
     "execution_count": 97,
     "metadata": {},
     "output_type": "execute_result"
    }
   ],
   "source": [
    "len(df.columns)"
   ]
  },
  {
   "cell_type": "code",
   "execution_count": 98,
   "metadata": {},
   "outputs": [
    {
     "data": {
      "text/plain": [
       "BROOKLYN         0.322827\n",
       "QUEENS           0.250562\n",
       "BRONX            0.185752\n",
       "MANHATTAN        0.183488\n",
       "STATEN ISLAND    0.057359\n",
       "Unspecified      0.000012\n",
       "Name: borough, dtype: float64"
      ]
     },
     "execution_count": 98,
     "metadata": {},
     "output_type": "execute_result"
    }
   ],
   "source": [
    "df.borough.value_counts(normalize = True)"
   ]
  },
  {
   "cell_type": "code",
   "execution_count": 111,
   "metadata": {},
   "outputs": [],
   "source": [
    "col_dr = [col for col in df.columns if col.startswith(':') == True]"
   ]
  },
  {
   "cell_type": "code",
   "execution_count": 113,
   "metadata": {},
   "outputs": [],
   "source": [
    "df.drop(columns= col_dr, inplace = True)"
   ]
  },
  {
   "cell_type": "code",
   "execution_count": 115,
   "metadata": {},
   "outputs": [
    {
     "data": {
      "text/plain": [
       "20"
      ]
     },
     "execution_count": 115,
     "metadata": {},
     "output_type": "execute_result"
    }
   ],
   "source": [
    "len(df.columns)"
   ]
  },
  {
   "cell_type": "code",
   "execution_count": 138,
   "metadata": {},
   "outputs": [
    {
     "data": {
      "text/plain": [
       "agency                      object\n",
       "agency_name                 object\n",
       "borough                     object\n",
       "city                        object\n",
       "community_board             object\n",
       "complaint_type              object\n",
       "created_date                object\n",
       "descriptor                  object\n",
       "facility_type               object\n",
       "incident_zip                object\n",
       "latitude                    object\n",
       "location                    object\n",
       "longitude                   object\n",
       "open_data_channel_type      object\n",
       "park_borough                object\n",
       "park_facility_name          object\n",
       "status                      object\n",
       "unique_key                  object\n",
       "x_coordinate_state_plane    object\n",
       "y_coordinate_state_plane    object\n",
       "dtype: object"
      ]
     },
     "execution_count": 138,
     "metadata": {},
     "output_type": "execute_result"
    }
   ],
   "source": [
    "df.dtypes"
   ]
  },
  {
   "cell_type": "code",
   "execution_count": 146,
   "metadata": {},
   "outputs": [
    {
     "data": {
      "text/html": [
       "<div>\n",
       "<style scoped>\n",
       "    .dataframe tbody tr th:only-of-type {\n",
       "        vertical-align: middle;\n",
       "    }\n",
       "\n",
       "    .dataframe tbody tr th {\n",
       "        vertical-align: top;\n",
       "    }\n",
       "\n",
       "    .dataframe thead th {\n",
       "        text-align: right;\n",
       "    }\n",
       "</style>\n",
       "<table border=\"1\" class=\"dataframe\">\n",
       "  <thead>\n",
       "    <tr style=\"text-align: right;\">\n",
       "      <th></th>\n",
       "      <th>agency</th>\n",
       "      <th>agency_name</th>\n",
       "      <th>borough</th>\n",
       "      <th>city</th>\n",
       "      <th>community_board</th>\n",
       "      <th>complaint_type</th>\n",
       "      <th>created_date</th>\n",
       "      <th>descriptor</th>\n",
       "      <th>incident_zip</th>\n",
       "      <th>latitude</th>\n",
       "      <th>location</th>\n",
       "      <th>longitude</th>\n",
       "      <th>open_data_channel_type</th>\n",
       "      <th>park_borough</th>\n",
       "      <th>park_facility_name</th>\n",
       "      <th>status</th>\n",
       "      <th>unique_key</th>\n",
       "      <th>x_coordinate_state_plane</th>\n",
       "      <th>y_coordinate_state_plane</th>\n",
       "    </tr>\n",
       "  </thead>\n",
       "  <tbody>\n",
       "    <tr>\n",
       "      <th>0</th>\n",
       "      <td>NYPD</td>\n",
       "      <td>New York City Police Department</td>\n",
       "      <td>BROOKLYN</td>\n",
       "      <td>brooklyn</td>\n",
       "      <td>06 BROOKLYN</td>\n",
       "      <td>Blocked Driveway</td>\n",
       "      <td>2011-05-11T07:25:54.000</td>\n",
       "      <td>No Access</td>\n",
       "      <td>11231</td>\n",
       "      <td>40.678452621891566</td>\n",
       "      <td>{'type': 'Point', 'coordinates': [-73.99687782...</td>\n",
       "      <td>-73.9968778216615</td>\n",
       "      <td>PHONE</td>\n",
       "      <td>BROOKLYN</td>\n",
       "      <td>Unspecified</td>\n",
       "      <td>Closed</td>\n",
       "      <td>20403865</td>\n",
       "      <td>985116</td>\n",
       "      <td>186455</td>\n",
       "    </tr>\n",
       "    <tr>\n",
       "      <th>1</th>\n",
       "      <td>DOT</td>\n",
       "      <td>Department of Transportation</td>\n",
       "      <td>MANHATTAN</td>\n",
       "      <td>new york</td>\n",
       "      <td>01 MANHATTAN</td>\n",
       "      <td>Bridge Condition</td>\n",
       "      <td>2011-05-11T08:28:02.000</td>\n",
       "      <td>Graffiti - Bridge</td>\n",
       "      <td>10002</td>\n",
       "      <td>40.7080220550756</td>\n",
       "      <td>{'type': 'Point', 'coordinates': [-73.99932911...</td>\n",
       "      <td>-73.99932911919944</td>\n",
       "      <td>PHONE</td>\n",
       "      <td>MANHATTAN</td>\n",
       "      <td>Unspecified</td>\n",
       "      <td>Closed</td>\n",
       "      <td>20403866</td>\n",
       "      <td>984436</td>\n",
       "      <td>197228</td>\n",
       "    </tr>\n",
       "    <tr>\n",
       "      <th>2</th>\n",
       "      <td>DOT</td>\n",
       "      <td>Department of Transportation</td>\n",
       "      <td>MANHATTAN</td>\n",
       "      <td>new york</td>\n",
       "      <td>01 MANHATTAN</td>\n",
       "      <td>Bridge Condition</td>\n",
       "      <td>2011-05-11T08:39:45.000</td>\n",
       "      <td>Graffiti - Bridge</td>\n",
       "      <td>10002</td>\n",
       "      <td>40.7080220550756</td>\n",
       "      <td>{'type': 'Point', 'coordinates': [-73.99932911...</td>\n",
       "      <td>-73.99932911919944</td>\n",
       "      <td>PHONE</td>\n",
       "      <td>MANHATTAN</td>\n",
       "      <td>Unspecified</td>\n",
       "      <td>Closed</td>\n",
       "      <td>20403867</td>\n",
       "      <td>984436</td>\n",
       "      <td>197228</td>\n",
       "    </tr>\n",
       "    <tr>\n",
       "      <th>3</th>\n",
       "      <td>DPR</td>\n",
       "      <td>Department of Parks and Recreation</td>\n",
       "      <td>QUEENS</td>\n",
       "      <td>woodside</td>\n",
       "      <td>02 QUEENS</td>\n",
       "      <td>Overgrown Tree/Branches</td>\n",
       "      <td>2011-05-11T09:02:32.000</td>\n",
       "      <td>Dead Branches in Tree</td>\n",
       "      <td>11377</td>\n",
       "      <td>40.74485343519304</td>\n",
       "      <td>{'type': 'Point', 'coordinates': [-73.90869170...</td>\n",
       "      <td>-73.90869170956374</td>\n",
       "      <td>PHONE</td>\n",
       "      <td>QUEENS</td>\n",
       "      <td>Unspecified</td>\n",
       "      <td>Closed</td>\n",
       "      <td>20403868</td>\n",
       "      <td>1009551</td>\n",
       "      <td>210660</td>\n",
       "    </tr>\n",
       "    <tr>\n",
       "      <th>4</th>\n",
       "      <td>DOT</td>\n",
       "      <td>Department of Transportation</td>\n",
       "      <td>QUEENS</td>\n",
       "      <td>astoria</td>\n",
       "      <td>01 QUEENS</td>\n",
       "      <td>Street Condition</td>\n",
       "      <td>2011-05-11T09:54:14.000</td>\n",
       "      <td>Failed Street Repair</td>\n",
       "      <td>11102</td>\n",
       "      <td>40.7739631949891</td>\n",
       "      <td>{'type': 'Point', 'coordinates': [-73.92646580...</td>\n",
       "      <td>-73.92646580177001</td>\n",
       "      <td>PHONE</td>\n",
       "      <td>QUEENS</td>\n",
       "      <td>Unspecified</td>\n",
       "      <td>Closed</td>\n",
       "      <td>20403871</td>\n",
       "      <td>1004617</td>\n",
       "      <td>221261</td>\n",
       "    </tr>\n",
       "  </tbody>\n",
       "</table>\n",
       "</div>"
      ],
      "text/plain": [
       "  agency                         agency_name    borough      city  \\\n",
       "0   NYPD     New York City Police Department   BROOKLYN  brooklyn   \n",
       "1    DOT        Department of Transportation  MANHATTAN  new york   \n",
       "2    DOT        Department of Transportation  MANHATTAN  new york   \n",
       "3    DPR  Department of Parks and Recreation     QUEENS  woodside   \n",
       "4    DOT        Department of Transportation     QUEENS   astoria   \n",
       "\n",
       "  community_board           complaint_type             created_date  \\\n",
       "0     06 BROOKLYN         Blocked Driveway  2011-05-11T07:25:54.000   \n",
       "1    01 MANHATTAN         Bridge Condition  2011-05-11T08:28:02.000   \n",
       "2    01 MANHATTAN         Bridge Condition  2011-05-11T08:39:45.000   \n",
       "3       02 QUEENS  Overgrown Tree/Branches  2011-05-11T09:02:32.000   \n",
       "4       01 QUEENS         Street Condition  2011-05-11T09:54:14.000   \n",
       "\n",
       "              descriptor incident_zip            latitude  \\\n",
       "0              No Access        11231  40.678452621891566   \n",
       "1      Graffiti - Bridge        10002    40.7080220550756   \n",
       "2      Graffiti - Bridge        10002    40.7080220550756   \n",
       "3  Dead Branches in Tree        11377   40.74485343519304   \n",
       "4   Failed Street Repair        11102    40.7739631949891   \n",
       "\n",
       "                                            location           longitude  \\\n",
       "0  {'type': 'Point', 'coordinates': [-73.99687782...   -73.9968778216615   \n",
       "1  {'type': 'Point', 'coordinates': [-73.99932911...  -73.99932911919944   \n",
       "2  {'type': 'Point', 'coordinates': [-73.99932911...  -73.99932911919944   \n",
       "3  {'type': 'Point', 'coordinates': [-73.90869170...  -73.90869170956374   \n",
       "4  {'type': 'Point', 'coordinates': [-73.92646580...  -73.92646580177001   \n",
       "\n",
       "  open_data_channel_type park_borough park_facility_name  status unique_key  \\\n",
       "0                  PHONE     BROOKLYN        Unspecified  Closed   20403865   \n",
       "1                  PHONE    MANHATTAN        Unspecified  Closed   20403866   \n",
       "2                  PHONE    MANHATTAN        Unspecified  Closed   20403867   \n",
       "3                  PHONE       QUEENS        Unspecified  Closed   20403868   \n",
       "4                  PHONE       QUEENS        Unspecified  Closed   20403871   \n",
       "\n",
       "  x_coordinate_state_plane y_coordinate_state_plane  \n",
       "0                   985116                   186455  \n",
       "1                   984436                   197228  \n",
       "2                   984436                   197228  \n",
       "3                  1009551                   210660  \n",
       "4                  1004617                   221261  "
      ]
     },
     "execution_count": 146,
     "metadata": {},
     "output_type": "execute_result"
    }
   ],
   "source": [
    "df.head()"
   ]
  },
  {
   "cell_type": "code",
   "execution_count": 140,
   "metadata": {},
   "outputs": [
    {
     "data": {
      "text/plain": [
       "N/A                393327\n",
       "Precinct            88236\n",
       "DSNY Garage         17442\n",
       "School                468\n",
       "School District       228\n",
       "Name: facility_type, dtype: int64"
      ]
     },
     "execution_count": 140,
     "metadata": {},
     "output_type": "execute_result"
    }
   ],
   "source": [
    "df['facility_type'].value_counts()"
   ]
  },
  {
   "cell_type": "code",
   "execution_count": 142,
   "metadata": {},
   "outputs": [],
   "source": [
    "#drop this too\n",
    "df.drop(columns='facility_type', inplace = True)"
   ]
  },
  {
   "cell_type": "code",
   "execution_count": 143,
   "metadata": {},
   "outputs": [
    {
     "data": {
      "text/plain": [
       "(499701, 19)"
      ]
     },
     "execution_count": 143,
     "metadata": {},
     "output_type": "execute_result"
    }
   ],
   "source": [
    "df.shape"
   ]
  },
  {
   "cell_type": "code",
   "execution_count": 144,
   "metadata": {},
   "outputs": [],
   "source": [
    "from sklearn"
   ]
  },
  {
   "cell_type": "code",
   "execution_count": 172,
   "metadata": {},
   "outputs": [],
   "source": []
  },
  {
   "cell_type": "code",
   "execution_count": 174,
   "metadata": {},
   "outputs": [],
   "source": [
    "num_dict = {'BROOKLYN': 1, 'MANHATTAN': 2, 'QUEENS': 3, 'BRONX': 4, 'STATEN ISLAND': 5, 'Unspecified': 0}\n"
   ]
  },
  {
   "cell_type": "code",
   "execution_count": 185,
   "metadata": {},
   "outputs": [],
   "source": [
    "df['borough_num'] = df['borough'].map(num_dict)"
   ]
  },
  {
   "cell_type": "code",
   "execution_count": 167,
   "metadata": {},
   "outputs": [
    {
     "data": {
      "text/plain": [
       "agency                                                                    DOT\n",
       "agency_name                                      Department of Transportation\n",
       "borough                                                             MANHATTAN\n",
       "city                                                                 new york\n",
       "community_board                                                  01 MANHATTAN\n",
       "complaint_type                                               Bridge Condition\n",
       "created_date                                          2011-05-11T08:28:02.000\n",
       "descriptor                                                  Graffiti - Bridge\n",
       "incident_zip                                                            10002\n",
       "latitude                                                     40.7080220550756\n",
       "location                    {'type': 'Point', 'coordinates': [-73.99932911...\n",
       "longitude                                                  -73.99932911919944\n",
       "open_data_channel_type                                                  PHONE\n",
       "park_borough                                                        MANHATTAN\n",
       "park_facility_name                                                Unspecified\n",
       "status                                                                 Closed\n",
       "unique_key                                                           20403866\n",
       "x_coordinate_state_plane                                               984436\n",
       "y_coordinate_state_plane                                               197228\n",
       "borough_num                                                                 2\n",
       "Name: 1, dtype: object"
      ]
     },
     "execution_count": 167,
     "metadata": {},
     "output_type": "execute_result"
    }
   ],
   "source": []
  },
  {
   "cell_type": "code",
   "execution_count": 186,
   "metadata": {},
   "outputs": [
    {
     "data": {
      "text/plain": [
       "1    161223\n",
       "3    125006\n",
       "4     92769\n",
       "2     92034\n",
       "5     28663\n",
       "0         6\n",
       "Name: borough_num, dtype: int64"
      ]
     },
     "execution_count": 186,
     "metadata": {},
     "output_type": "execute_result"
    }
   ],
   "source": [
    "df.borough_num.value_counts()"
   ]
  },
  {
   "cell_type": "code",
   "execution_count": 187,
   "metadata": {},
   "outputs": [
    {
     "data": {
      "text/plain": [
       "BROOKLYN         161223\n",
       "QUEENS           125006\n",
       "BRONX             92769\n",
       "MANHATTAN         92034\n",
       "STATEN ISLAND     28663\n",
       "Unspecified           6\n",
       "Name: borough, dtype: int64"
      ]
     },
     "execution_count": 187,
     "metadata": {},
     "output_type": "execute_result"
    }
   ],
   "source": [
    "#matching the boroughs and numbers\n",
    "df.borough.value_counts()"
   ]
  },
  {
   "cell_type": "code",
   "execution_count": 188,
   "metadata": {},
   "outputs": [
    {
     "data": {
      "text/html": [
       "<div>\n",
       "<style scoped>\n",
       "    .dataframe tbody tr th:only-of-type {\n",
       "        vertical-align: middle;\n",
       "    }\n",
       "\n",
       "    .dataframe tbody tr th {\n",
       "        vertical-align: top;\n",
       "    }\n",
       "\n",
       "    .dataframe thead th {\n",
       "        text-align: right;\n",
       "    }\n",
       "</style>\n",
       "<table border=\"1\" class=\"dataframe\">\n",
       "  <thead>\n",
       "    <tr style=\"text-align: right;\">\n",
       "      <th></th>\n",
       "      <th>agency</th>\n",
       "      <th>agency_name</th>\n",
       "      <th>borough</th>\n",
       "      <th>city</th>\n",
       "      <th>community_board</th>\n",
       "      <th>complaint_type</th>\n",
       "      <th>created_date</th>\n",
       "      <th>descriptor</th>\n",
       "      <th>incident_zip</th>\n",
       "      <th>latitude</th>\n",
       "      <th>location</th>\n",
       "      <th>longitude</th>\n",
       "      <th>open_data_channel_type</th>\n",
       "      <th>park_borough</th>\n",
       "      <th>park_facility_name</th>\n",
       "      <th>status</th>\n",
       "      <th>unique_key</th>\n",
       "      <th>x_coordinate_state_plane</th>\n",
       "      <th>y_coordinate_state_plane</th>\n",
       "      <th>borough_num</th>\n",
       "    </tr>\n",
       "  </thead>\n",
       "  <tbody>\n",
       "    <tr>\n",
       "      <th>0</th>\n",
       "      <td>NYPD</td>\n",
       "      <td>New York City Police Department</td>\n",
       "      <td>BROOKLYN</td>\n",
       "      <td>brooklyn</td>\n",
       "      <td>06 BROOKLYN</td>\n",
       "      <td>Blocked Driveway</td>\n",
       "      <td>2011-05-11T07:25:54.000</td>\n",
       "      <td>No Access</td>\n",
       "      <td>11231</td>\n",
       "      <td>40.678452621891566</td>\n",
       "      <td>{'type': 'Point', 'coordinates': [-73.99687782...</td>\n",
       "      <td>-73.9968778216615</td>\n",
       "      <td>PHONE</td>\n",
       "      <td>BROOKLYN</td>\n",
       "      <td>Unspecified</td>\n",
       "      <td>Closed</td>\n",
       "      <td>20403865</td>\n",
       "      <td>985116</td>\n",
       "      <td>186455</td>\n",
       "      <td>1</td>\n",
       "    </tr>\n",
       "    <tr>\n",
       "      <th>1</th>\n",
       "      <td>DOT</td>\n",
       "      <td>Department of Transportation</td>\n",
       "      <td>MANHATTAN</td>\n",
       "      <td>new york</td>\n",
       "      <td>01 MANHATTAN</td>\n",
       "      <td>Bridge Condition</td>\n",
       "      <td>2011-05-11T08:28:02.000</td>\n",
       "      <td>Graffiti - Bridge</td>\n",
       "      <td>10002</td>\n",
       "      <td>40.7080220550756</td>\n",
       "      <td>{'type': 'Point', 'coordinates': [-73.99932911...</td>\n",
       "      <td>-73.99932911919944</td>\n",
       "      <td>PHONE</td>\n",
       "      <td>MANHATTAN</td>\n",
       "      <td>Unspecified</td>\n",
       "      <td>Closed</td>\n",
       "      <td>20403866</td>\n",
       "      <td>984436</td>\n",
       "      <td>197228</td>\n",
       "      <td>2</td>\n",
       "    </tr>\n",
       "    <tr>\n",
       "      <th>2</th>\n",
       "      <td>DOT</td>\n",
       "      <td>Department of Transportation</td>\n",
       "      <td>MANHATTAN</td>\n",
       "      <td>new york</td>\n",
       "      <td>01 MANHATTAN</td>\n",
       "      <td>Bridge Condition</td>\n",
       "      <td>2011-05-11T08:39:45.000</td>\n",
       "      <td>Graffiti - Bridge</td>\n",
       "      <td>10002</td>\n",
       "      <td>40.7080220550756</td>\n",
       "      <td>{'type': 'Point', 'coordinates': [-73.99932911...</td>\n",
       "      <td>-73.99932911919944</td>\n",
       "      <td>PHONE</td>\n",
       "      <td>MANHATTAN</td>\n",
       "      <td>Unspecified</td>\n",
       "      <td>Closed</td>\n",
       "      <td>20403867</td>\n",
       "      <td>984436</td>\n",
       "      <td>197228</td>\n",
       "      <td>2</td>\n",
       "    </tr>\n",
       "    <tr>\n",
       "      <th>3</th>\n",
       "      <td>DPR</td>\n",
       "      <td>Department of Parks and Recreation</td>\n",
       "      <td>QUEENS</td>\n",
       "      <td>woodside</td>\n",
       "      <td>02 QUEENS</td>\n",
       "      <td>Overgrown Tree/Branches</td>\n",
       "      <td>2011-05-11T09:02:32.000</td>\n",
       "      <td>Dead Branches in Tree</td>\n",
       "      <td>11377</td>\n",
       "      <td>40.74485343519304</td>\n",
       "      <td>{'type': 'Point', 'coordinates': [-73.90869170...</td>\n",
       "      <td>-73.90869170956374</td>\n",
       "      <td>PHONE</td>\n",
       "      <td>QUEENS</td>\n",
       "      <td>Unspecified</td>\n",
       "      <td>Closed</td>\n",
       "      <td>20403868</td>\n",
       "      <td>1009551</td>\n",
       "      <td>210660</td>\n",
       "      <td>3</td>\n",
       "    </tr>\n",
       "    <tr>\n",
       "      <th>4</th>\n",
       "      <td>DOT</td>\n",
       "      <td>Department of Transportation</td>\n",
       "      <td>QUEENS</td>\n",
       "      <td>astoria</td>\n",
       "      <td>01 QUEENS</td>\n",
       "      <td>Street Condition</td>\n",
       "      <td>2011-05-11T09:54:14.000</td>\n",
       "      <td>Failed Street Repair</td>\n",
       "      <td>11102</td>\n",
       "      <td>40.7739631949891</td>\n",
       "      <td>{'type': 'Point', 'coordinates': [-73.92646580...</td>\n",
       "      <td>-73.92646580177001</td>\n",
       "      <td>PHONE</td>\n",
       "      <td>QUEENS</td>\n",
       "      <td>Unspecified</td>\n",
       "      <td>Closed</td>\n",
       "      <td>20403871</td>\n",
       "      <td>1004617</td>\n",
       "      <td>221261</td>\n",
       "      <td>3</td>\n",
       "    </tr>\n",
       "  </tbody>\n",
       "</table>\n",
       "</div>"
      ],
      "text/plain": [
       "  agency                         agency_name    borough      city  \\\n",
       "0   NYPD     New York City Police Department   BROOKLYN  brooklyn   \n",
       "1    DOT        Department of Transportation  MANHATTAN  new york   \n",
       "2    DOT        Department of Transportation  MANHATTAN  new york   \n",
       "3    DPR  Department of Parks and Recreation     QUEENS  woodside   \n",
       "4    DOT        Department of Transportation     QUEENS   astoria   \n",
       "\n",
       "  community_board           complaint_type             created_date  \\\n",
       "0     06 BROOKLYN         Blocked Driveway  2011-05-11T07:25:54.000   \n",
       "1    01 MANHATTAN         Bridge Condition  2011-05-11T08:28:02.000   \n",
       "2    01 MANHATTAN         Bridge Condition  2011-05-11T08:39:45.000   \n",
       "3       02 QUEENS  Overgrown Tree/Branches  2011-05-11T09:02:32.000   \n",
       "4       01 QUEENS         Street Condition  2011-05-11T09:54:14.000   \n",
       "\n",
       "              descriptor incident_zip            latitude  \\\n",
       "0              No Access        11231  40.678452621891566   \n",
       "1      Graffiti - Bridge        10002    40.7080220550756   \n",
       "2      Graffiti - Bridge        10002    40.7080220550756   \n",
       "3  Dead Branches in Tree        11377   40.74485343519304   \n",
       "4   Failed Street Repair        11102    40.7739631949891   \n",
       "\n",
       "                                            location           longitude  \\\n",
       "0  {'type': 'Point', 'coordinates': [-73.99687782...   -73.9968778216615   \n",
       "1  {'type': 'Point', 'coordinates': [-73.99932911...  -73.99932911919944   \n",
       "2  {'type': 'Point', 'coordinates': [-73.99932911...  -73.99932911919944   \n",
       "3  {'type': 'Point', 'coordinates': [-73.90869170...  -73.90869170956374   \n",
       "4  {'type': 'Point', 'coordinates': [-73.92646580...  -73.92646580177001   \n",
       "\n",
       "  open_data_channel_type park_borough park_facility_name  status unique_key  \\\n",
       "0                  PHONE     BROOKLYN        Unspecified  Closed   20403865   \n",
       "1                  PHONE    MANHATTAN        Unspecified  Closed   20403866   \n",
       "2                  PHONE    MANHATTAN        Unspecified  Closed   20403867   \n",
       "3                  PHONE       QUEENS        Unspecified  Closed   20403868   \n",
       "4                  PHONE       QUEENS        Unspecified  Closed   20403871   \n",
       "\n",
       "  x_coordinate_state_plane y_coordinate_state_plane  borough_num  \n",
       "0                   985116                   186455            1  \n",
       "1                   984436                   197228            2  \n",
       "2                   984436                   197228            2  \n",
       "3                  1009551                   210660            3  \n",
       "4                  1004617                   221261            3  "
      ]
     },
     "execution_count": 188,
     "metadata": {},
     "output_type": "execute_result"
    }
   ],
   "source": [
    "df.head()"
   ]
  },
  {
   "cell_type": "code",
   "execution_count": 223,
   "metadata": {},
   "outputs": [],
   "source": [
    "# model with trying to match complaints to borough\n",
    "X = df['complaint_type']\n",
    "y = df['borough_num']"
   ]
  },
  {
   "cell_type": "code",
   "execution_count": 207,
   "metadata": {},
   "outputs": [],
   "source": [
    "from sklearn.feature_extraction.text import CountVectorizer, TfidfVectorizer\n",
    "from sklearn.model_selection import train_test_split, GridSearchCV\n",
    "from sklearn.pipeline import Pipeline\n",
    "from sklearn.linear_model import LogisticRegression"
   ]
  },
  {
   "cell_type": "code",
   "execution_count": 198,
   "metadata": {},
   "outputs": [],
   "source": [
    "# getting rid of unspecified data\n",
    "df = df[df['borough_num'] != 0]"
   ]
  },
  {
   "cell_type": "code",
   "execution_count": 224,
   "metadata": {},
   "outputs": [],
   "source": [
    "X_train, X_test, y_train, y_test = train_test_split(X, y , stratify = y)\n"
   ]
  },
  {
   "cell_type": "code",
   "execution_count": 231,
   "metadata": {},
   "outputs": [],
   "source": [
    "#searching a pipeline\n",
    "pipe = Pipeline([('cvec', CountVectorizer()), \n",
    "                 ('lr',LogisticRegression())])\n",
    "\n",
    "pipe_params = {\n",
    "    'cvec__ngram_range': [(1,1),(1,2)],\n",
    "    'lr__penalty': ['l1', 'l2']\n",
    "}\n",
    "grid = GridSearchCV(pipe, param_grid=pipe_params, cv = 3)"
   ]
  },
  {
   "cell_type": "code",
   "execution_count": 232,
   "metadata": {},
   "outputs": [
    {
     "name": "stderr",
     "output_type": "stream",
     "text": [
      "/Users/brianschor/anaconda3/lib/python3.6/site-packages/sklearn/linear_model/logistic.py:433: FutureWarning: Default solver will be changed to 'lbfgs' in 0.22. Specify a solver to silence this warning.\n",
      "  FutureWarning)\n",
      "/Users/brianschor/anaconda3/lib/python3.6/site-packages/sklearn/linear_model/logistic.py:460: FutureWarning: Default multi_class will be changed to 'auto' in 0.22. Specify the multi_class option to silence this warning.\n",
      "  \"this warning.\", FutureWarning)\n"
     ]
    },
    {
     "data": {
      "text/plain": [
       "GridSearchCV(cv=3, error_score='raise-deprecating',\n",
       "       estimator=Pipeline(memory=None,\n",
       "     steps=[('cvec', CountVectorizer(analyzer='word', binary=False, decode_error='strict',\n",
       "        dtype=<class 'numpy.int64'>, encoding='utf-8', input='content',\n",
       "        lowercase=True, max_df=1.0, max_features=None, min_df=1,\n",
       "        ngram_range=(1, 1), preprocessor=None, stop_words=None,\n",
       "        strip...penalty='l2', random_state=None, solver='warn',\n",
       "          tol=0.0001, verbose=0, warm_start=False))]),\n",
       "       fit_params=None, iid='warn', n_jobs=None,\n",
       "       param_grid={'cvec__ngram_range': [(1, 1), (1, 2)], 'lr__penalty': ['l1', 'l2']},\n",
       "       pre_dispatch='2*n_jobs', refit=True, return_train_score='warn',\n",
       "       scoring=None, verbose=0)"
      ]
     },
     "execution_count": 232,
     "metadata": {},
     "output_type": "execute_result"
    }
   ],
   "source": [
    "grid.fit(X_train, y_train)"
   ]
  },
  {
   "cell_type": "code",
   "execution_count": 233,
   "metadata": {},
   "outputs": [
    {
     "data": {
      "text/plain": [
       "0.3793863452615064"
      ]
     },
     "execution_count": 233,
     "metadata": {},
     "output_type": "execute_result"
    }
   ],
   "source": [
    "grid.best_score_"
   ]
  },
  {
   "cell_type": "code",
   "execution_count": 234,
   "metadata": {},
   "outputs": [
    {
     "data": {
      "text/plain": [
       "{'cvec__ngram_range': (1, 2), 'lr__penalty': 'l2'}"
      ]
     },
     "execution_count": 234,
     "metadata": {},
     "output_type": "execute_result"
    }
   ],
   "source": [
    "grid.best_params_"
   ]
  },
  {
   "cell_type": "code",
   "execution_count": 237,
   "metadata": {},
   "outputs": [],
   "source": [
    "#using the params\n",
    "pipe = Pipeline([('cvec', CountVectorizer(ngram_range=(1,2))), \n",
    "                 ('lr',LogisticRegression())])"
   ]
  },
  {
   "cell_type": "code",
   "execution_count": 238,
   "metadata": {},
   "outputs": [
    {
     "name": "stderr",
     "output_type": "stream",
     "text": [
      "/Users/brianschor/anaconda3/lib/python3.6/site-packages/sklearn/linear_model/logistic.py:433: FutureWarning: Default solver will be changed to 'lbfgs' in 0.22. Specify a solver to silence this warning.\n",
      "  FutureWarning)\n",
      "/Users/brianschor/anaconda3/lib/python3.6/site-packages/sklearn/linear_model/logistic.py:460: FutureWarning: Default multi_class will be changed to 'auto' in 0.22. Specify the multi_class option to silence this warning.\n",
      "  \"this warning.\", FutureWarning)\n"
     ]
    },
    {
     "data": {
      "text/plain": [
       "Pipeline(memory=None,\n",
       "     steps=[('cvec', CountVectorizer(analyzer='word', binary=False, decode_error='strict',\n",
       "        dtype=<class 'numpy.int64'>, encoding='utf-8', input='content',\n",
       "        lowercase=True, max_df=1.0, max_features=None, min_df=1,\n",
       "        ngram_range=(1, 2), preprocessor=None, stop_words=None,\n",
       "        strip...penalty='l2', random_state=None, solver='warn',\n",
       "          tol=0.0001, verbose=0, warm_start=False))])"
      ]
     },
     "execution_count": 238,
     "metadata": {},
     "output_type": "execute_result"
    }
   ],
   "source": [
    "pipe.fit(X_train, y_train)"
   ]
  },
  {
   "cell_type": "code",
   "execution_count": 240,
   "metadata": {},
   "outputs": [
    {
     "data": {
      "text/plain": [
       "0.3806831371690979"
      ]
     },
     "execution_count": 240,
     "metadata": {},
     "output_type": "execute_result"
    }
   ],
   "source": [
    "pipe.score(X_train, y_train)"
   ]
  },
  {
   "cell_type": "code",
   "execution_count": 241,
   "metadata": {},
   "outputs": [
    {
     "data": {
      "text/plain": [
       "0.377989817809228"
      ]
     },
     "execution_count": 241,
     "metadata": {},
     "output_type": "execute_result"
    }
   ],
   "source": [
    "pipe.score(X_test, y_test)"
   ]
  },
  {
   "cell_type": "code",
   "execution_count": 242,
   "metadata": {},
   "outputs": [],
   "source": [
    "#scores are close together, close to twice as good as a random guess"
   ]
  },
  {
   "cell_type": "code",
   "execution_count": 244,
   "metadata": {},
   "outputs": [
    {
     "data": {
      "text/plain": [
       "{'cvec': CountVectorizer(analyzer='word', binary=False, decode_error='strict',\n",
       "         dtype=<class 'numpy.int64'>, encoding='utf-8', input='content',\n",
       "         lowercase=True, max_df=1.0, max_features=None, min_df=1,\n",
       "         ngram_range=(1, 2), preprocessor=None, stop_words=None,\n",
       "         strip_accents=None, token_pattern='(?u)\\\\b\\\\w\\\\w+\\\\b',\n",
       "         tokenizer=None, vocabulary=None),\n",
       " 'lr': LogisticRegression(C=1.0, class_weight=None, dual=False, fit_intercept=True,\n",
       "           intercept_scaling=1, max_iter=100, multi_class='warn',\n",
       "           n_jobs=None, penalty='l2', random_state=None, solver='warn',\n",
       "           tol=0.0001, verbose=0, warm_start=False)}"
      ]
     },
     "execution_count": 244,
     "metadata": {},
     "output_type": "execute_result"
    }
   ],
   "source": [
    "pipe.named_steps"
   ]
  },
  {
   "cell_type": "code",
   "execution_count": null,
   "metadata": {},
   "outputs": [],
   "source": [
    "# Set up a dataframe with the coeffeicients on a per borough basis"
   ]
  },
  {
   "cell_type": "code",
   "execution_count": 255,
   "metadata": {},
   "outputs": [],
   "source": [
    "columns = pipe.named_steps.cvec.get_feature_names()"
   ]
  },
  {
   "cell_type": "code",
   "execution_count": 256,
   "metadata": {},
   "outputs": [],
   "source": [
    "values = pipe.named_steps.lr.coef_"
   ]
  },
  {
   "cell_type": "code",
   "execution_count": 280,
   "metadata": {},
   "outputs": [],
   "source": [
    "boroughs = ['Brooklyn', 'Manhattan', 'Queens', 'Bronx', 'Staten Island']"
   ]
  },
  {
   "cell_type": "code",
   "execution_count": 281,
   "metadata": {},
   "outputs": [],
   "source": [
    "word_df = pd.DataFrame(data = values, columns = columns, index = boroughs)"
   ]
  },
  {
   "cell_type": "code",
   "execution_count": 282,
   "metadata": {},
   "outputs": [
    {
     "data": {
      "text/html": [
       "<div>\n",
       "<style scoped>\n",
       "    .dataframe tbody tr th:only-of-type {\n",
       "        vertical-align: middle;\n",
       "    }\n",
       "\n",
       "    .dataframe tbody tr th {\n",
       "        vertical-align: top;\n",
       "    }\n",
       "\n",
       "    .dataframe thead th {\n",
       "        text-align: right;\n",
       "    }\n",
       "</style>\n",
       "<table border=\"1\" class=\"dataframe\">\n",
       "  <thead>\n",
       "    <tr style=\"text-align: right;\">\n",
       "      <th></th>\n",
       "      <th>adopt</th>\n",
       "      <th>adopt basket</th>\n",
       "      <th>advertisement</th>\n",
       "      <th>air</th>\n",
       "      <th>air quality</th>\n",
       "      <th>all</th>\n",
       "      <th>all materials</th>\n",
       "      <th>and</th>\n",
       "      <th>and derricks</th>\n",
       "      <th>and discipline</th>\n",
       "      <th>...</th>\n",
       "      <th>wasps</th>\n",
       "      <th>waste</th>\n",
       "      <th>water</th>\n",
       "      <th>water conservation</th>\n",
       "      <th>water quality</th>\n",
       "      <th>water system</th>\n",
       "      <th>window</th>\n",
       "      <th>window guard</th>\n",
       "      <th>worship</th>\n",
       "      <th>youth</th>\n",
       "    </tr>\n",
       "  </thead>\n",
       "  <tbody>\n",
       "    <tr>\n",
       "      <th>Brooklyn</th>\n",
       "      <td>0.052465</td>\n",
       "      <td>0.052465</td>\n",
       "      <td>0.149532</td>\n",
       "      <td>0.041653</td>\n",
       "      <td>0.041653</td>\n",
       "      <td>-0.040130</td>\n",
       "      <td>-0.040130</td>\n",
       "      <td>0.044653</td>\n",
       "      <td>-0.059023</td>\n",
       "      <td>0.015583</td>\n",
       "      <td>...</td>\n",
       "      <td>0.103397</td>\n",
       "      <td>-0.009385</td>\n",
       "      <td>-0.118021</td>\n",
       "      <td>0.170767</td>\n",
       "      <td>-0.092114</td>\n",
       "      <td>-0.006884</td>\n",
       "      <td>0.268194</td>\n",
       "      <td>0.268194</td>\n",
       "      <td>0.123591</td>\n",
       "      <td>-0.075948</td>\n",
       "    </tr>\n",
       "    <tr>\n",
       "      <th>Manhattan</th>\n",
       "      <td>-0.332057</td>\n",
       "      <td>-0.332057</td>\n",
       "      <td>-0.031129</td>\n",
       "      <td>0.344472</td>\n",
       "      <td>0.344472</td>\n",
       "      <td>-0.125306</td>\n",
       "      <td>-0.125306</td>\n",
       "      <td>-0.128826</td>\n",
       "      <td>0.192521</td>\n",
       "      <td>0.079842</td>\n",
       "      <td>...</td>\n",
       "      <td>-0.357360</td>\n",
       "      <td>-0.051833</td>\n",
       "      <td>-0.450326</td>\n",
       "      <td>-0.483878</td>\n",
       "      <td>-0.243087</td>\n",
       "      <td>0.177829</td>\n",
       "      <td>0.004991</td>\n",
       "      <td>0.004991</td>\n",
       "      <td>-0.084480</td>\n",
       "      <td>0.197736</td>\n",
       "    </tr>\n",
       "    <tr>\n",
       "      <th>Queens</th>\n",
       "      <td>-0.308075</td>\n",
       "      <td>-0.308075</td>\n",
       "      <td>0.156722</td>\n",
       "      <td>-0.159728</td>\n",
       "      <td>-0.159728</td>\n",
       "      <td>0.053338</td>\n",
       "      <td>0.053338</td>\n",
       "      <td>0.148207</td>\n",
       "      <td>-0.131081</td>\n",
       "      <td>0.032078</td>\n",
       "      <td>...</td>\n",
       "      <td>0.108732</td>\n",
       "      <td>0.139647</td>\n",
       "      <td>0.449025</td>\n",
       "      <td>0.109795</td>\n",
       "      <td>0.272107</td>\n",
       "      <td>-0.250505</td>\n",
       "      <td>-0.439025</td>\n",
       "      <td>-0.439025</td>\n",
       "      <td>-0.021775</td>\n",
       "      <td>-0.077566</td>\n",
       "    </tr>\n",
       "    <tr>\n",
       "      <th>Bronx</th>\n",
       "      <td>0.601209</td>\n",
       "      <td>0.601209</td>\n",
       "      <td>-0.160600</td>\n",
       "      <td>-0.185898</td>\n",
       "      <td>-0.185898</td>\n",
       "      <td>0.013065</td>\n",
       "      <td>0.013065</td>\n",
       "      <td>0.003255</td>\n",
       "      <td>0.049666</td>\n",
       "      <td>-0.141718</td>\n",
       "      <td>...</td>\n",
       "      <td>0.047302</td>\n",
       "      <td>-0.036201</td>\n",
       "      <td>-0.041279</td>\n",
       "      <td>0.078392</td>\n",
       "      <td>0.072517</td>\n",
       "      <td>0.429284</td>\n",
       "      <td>-0.003113</td>\n",
       "      <td>-0.003113</td>\n",
       "      <td>-0.021962</td>\n",
       "      <td>0.012373</td>\n",
       "    </tr>\n",
       "    <tr>\n",
       "      <th>Staten Island</th>\n",
       "      <td>-0.100313</td>\n",
       "      <td>-0.100313</td>\n",
       "      <td>-0.489930</td>\n",
       "      <td>-0.179227</td>\n",
       "      <td>-0.179227</td>\n",
       "      <td>0.225631</td>\n",
       "      <td>0.225631</td>\n",
       "      <td>-0.220000</td>\n",
       "      <td>0.153908</td>\n",
       "      <td>0.183431</td>\n",
       "      <td>...</td>\n",
       "      <td>0.088895</td>\n",
       "      <td>0.306055</td>\n",
       "      <td>0.500720</td>\n",
       "      <td>0.236481</td>\n",
       "      <td>0.357057</td>\n",
       "      <td>-0.180251</td>\n",
       "      <td>0.275942</td>\n",
       "      <td>0.275942</td>\n",
       "      <td>-0.120308</td>\n",
       "      <td>0.249851</td>\n",
       "    </tr>\n",
       "  </tbody>\n",
       "</table>\n",
       "<p>5 rows × 407 columns</p>\n",
       "</div>"
      ],
      "text/plain": [
       "                  adopt  adopt basket  advertisement       air  air quality  \\\n",
       "Brooklyn       0.052465      0.052465       0.149532  0.041653     0.041653   \n",
       "Manhattan     -0.332057     -0.332057      -0.031129  0.344472     0.344472   \n",
       "Queens        -0.308075     -0.308075       0.156722 -0.159728    -0.159728   \n",
       "Bronx          0.601209      0.601209      -0.160600 -0.185898    -0.185898   \n",
       "Staten Island -0.100313     -0.100313      -0.489930 -0.179227    -0.179227   \n",
       "\n",
       "                    all  all materials       and  and derricks  \\\n",
       "Brooklyn      -0.040130      -0.040130  0.044653     -0.059023   \n",
       "Manhattan     -0.125306      -0.125306 -0.128826      0.192521   \n",
       "Queens         0.053338       0.053338  0.148207     -0.131081   \n",
       "Bronx          0.013065       0.013065  0.003255      0.049666   \n",
       "Staten Island  0.225631       0.225631 -0.220000      0.153908   \n",
       "\n",
       "               and discipline  ...     wasps     waste     water  \\\n",
       "Brooklyn             0.015583  ...  0.103397 -0.009385 -0.118021   \n",
       "Manhattan            0.079842  ... -0.357360 -0.051833 -0.450326   \n",
       "Queens               0.032078  ...  0.108732  0.139647  0.449025   \n",
       "Bronx               -0.141718  ...  0.047302 -0.036201 -0.041279   \n",
       "Staten Island        0.183431  ...  0.088895  0.306055  0.500720   \n",
       "\n",
       "               water conservation  water quality  water system    window  \\\n",
       "Brooklyn                 0.170767      -0.092114     -0.006884  0.268194   \n",
       "Manhattan               -0.483878      -0.243087      0.177829  0.004991   \n",
       "Queens                   0.109795       0.272107     -0.250505 -0.439025   \n",
       "Bronx                    0.078392       0.072517      0.429284 -0.003113   \n",
       "Staten Island            0.236481       0.357057     -0.180251  0.275942   \n",
       "\n",
       "               window guard   worship     youth  \n",
       "Brooklyn           0.268194  0.123591 -0.075948  \n",
       "Manhattan          0.004991 -0.084480  0.197736  \n",
       "Queens            -0.439025 -0.021775 -0.077566  \n",
       "Bronx             -0.003113 -0.021962  0.012373  \n",
       "Staten Island      0.275942 -0.120308  0.249851  \n",
       "\n",
       "[5 rows x 407 columns]"
      ]
     },
     "execution_count": 282,
     "metadata": {},
     "output_type": "execute_result"
    }
   ],
   "source": [
    "word_df"
   ]
  },
  {
   "cell_type": "code",
   "execution_count": 297,
   "metadata": {},
   "outputs": [],
   "source": [
    "# the following are all the most positive and most negative coefficients for each borough"
   ]
  },
  {
   "cell_type": "code",
   "execution_count": 287,
   "metadata": {},
   "outputs": [
    {
     "data": {
      "text/plain": [
       "construction     -1.240215\n",
       "found            -0.911000\n",
       "found property   -0.911000\n",
       "property         -0.786679\n",
       "health           -0.747233\n",
       "Name: Brooklyn, dtype: float64"
      ]
     },
     "execution_count": 287,
     "metadata": {},
     "output_type": "execute_result"
    }
   ],
   "source": [
    "word_df.loc['Brooklyn'].sort_values().head()"
   ]
  },
  {
   "cell_type": "code",
   "execution_count": 288,
   "metadata": {},
   "outputs": [
    {
     "data": {
      "text/plain": [
       "plant                   1.269472\n",
       "noise helicopter        0.927284\n",
       "helicopter              0.927284\n",
       "general construction    0.857368\n",
       "general                 0.857368\n",
       "Name: Brooklyn, dtype: float64"
      ]
     },
     "execution_count": 288,
     "metadata": {},
     "output_type": "execute_result"
    }
   ],
   "source": [
    "word_df.loc['Brooklyn'].sort_values(ascending = False).head()"
   ]
  },
  {
   "cell_type": "code",
   "execution_count": 289,
   "metadata": {},
   "outputs": [
    {
     "data": {
      "text/plain": [
       "construction       -1.991577\n",
       "sewer              -1.083401\n",
       "signal             -0.883582\n",
       "signal condition   -0.883582\n",
       "traffic signal     -0.883582\n",
       "Name: Manhattan, dtype: float64"
      ]
     },
     "execution_count": 289,
     "metadata": {},
     "output_type": "execute_result"
    }
   ],
   "source": [
    "word_df.loc['Manhattan'].sort_values().head()"
   ]
  },
  {
   "cell_type": "code",
   "execution_count": 290,
   "metadata": {},
   "outputs": [
    {
     "data": {
      "text/plain": [
       "vending           1.472056\n",
       "traffic           1.276341\n",
       "found             1.169470\n",
       "found property    1.169470\n",
       "taxi              1.041905\n",
       "Name: Manhattan, dtype: float64"
      ]
     },
     "execution_count": 290,
     "metadata": {},
     "output_type": "execute_result"
    }
   ],
   "source": [
    "word_df.loc['Manhattan'].sort_values(ascending = False).head()"
   ]
  },
  {
   "cell_type": "code",
   "execution_count": 291,
   "metadata": {},
   "outputs": [
    {
     "data": {
      "text/plain": [
       "general construction   -1.720627\n",
       "general                -1.720627\n",
       "health                 -1.013542\n",
       "boilers                -0.707404\n",
       "plant                  -0.672606\n",
       "Name: Queens, dtype: float64"
      ]
     },
     "execution_count": 291,
     "metadata": {},
     "output_type": "execute_result"
    }
   ],
   "source": [
    "word_df.loc['Queens'].sort_values().head()"
   ]
  },
  {
   "cell_type": "code",
   "execution_count": 292,
   "metadata": {},
   "outputs": [
    {
     "data": {
      "text/plain": [
       "construction             2.678456\n",
       "construction plumbing    1.604327\n",
       "sewer                    0.850899\n",
       "tree                     0.625114\n",
       "derelict vehicle         0.571960\n",
       "Name: Queens, dtype: float64"
      ]
     },
     "execution_count": 292,
     "metadata": {},
     "output_type": "execute_result"
    }
   ],
   "source": [
    "word_df.loc['Queens'].sort_values(ascending = False).head()"
   ]
  },
  {
   "cell_type": "code",
   "execution_count": 293,
   "metadata": {},
   "outputs": [
    {
     "data": {
      "text/plain": [
       "construction plumbing   -1.998761\n",
       "plant                   -1.206937\n",
       "construction            -1.152850\n",
       "panhandling             -1.113402\n",
       "bicycle                 -1.039250\n",
       "Name: Bronx, dtype: float64"
      ]
     },
     "execution_count": 293,
     "metadata": {},
     "output_type": "execute_result"
    }
   ],
   "source": [
    "word_df.loc['Bronx'].sort_values().head()"
   ]
  },
  {
   "cell_type": "code",
   "execution_count": 294,
   "metadata": {},
   "outputs": [
    {
     "data": {
      "text/plain": [
       "health                  1.435078\n",
       "safety                  1.189017\n",
       "elevator                1.048108\n",
       "general construction    1.047875\n",
       "general                 1.047875\n",
       "Name: Bronx, dtype: float64"
      ]
     },
     "execution_count": 294,
     "metadata": {},
     "output_type": "execute_result"
    }
   ],
   "source": [
    "word_df.loc['Bronx'].sort_values(ascending = False).head()"
   ]
  },
  {
   "cell_type": "code",
   "execution_count": 295,
   "metadata": {},
   "outputs": [
    {
     "data": {
      "text/plain": [
       "vending          -1.668228\n",
       "construction     -1.305468\n",
       "taxi             -1.147124\n",
       "taxi complaint   -1.125086\n",
       "boilers          -1.065475\n",
       "Name: Staten Island, dtype: float64"
      ]
     },
     "execution_count": 295,
     "metadata": {},
     "output_type": "execute_result"
    }
   ],
   "source": [
    "word_df.loc['Staten Island'].sort_values().head()"
   ]
  },
  {
   "cell_type": "code",
   "execution_count": 296,
   "metadata": {},
   "outputs": [
    {
     "data": {
      "text/plain": [
       "sewer                   1.526165\n",
       "mold                    1.172066\n",
       "material                1.065221\n",
       "radioactive             1.065221\n",
       "radioactive material    1.065221\n",
       "Name: Staten Island, dtype: float64"
      ]
     },
     "execution_count": 296,
     "metadata": {},
     "output_type": "execute_result"
    }
   ],
   "source": [
    "word_df.loc['Staten Island'].sort_values(ascending = False).head()"
   ]
  }
 ],
 "metadata": {
  "kernelspec": {
   "display_name": "Python 3",
   "language": "python",
   "name": "python3"
  },
  "language_info": {
   "codemirror_mode": {
    "name": "ipython",
    "version": 3
   },
   "file_extension": ".py",
   "mimetype": "text/x-python",
   "name": "python",
   "nbconvert_exporter": "python",
   "pygments_lexer": "ipython3",
   "version": "3.6.8"
  }
 },
 "nbformat": 4,
 "nbformat_minor": 2
}
